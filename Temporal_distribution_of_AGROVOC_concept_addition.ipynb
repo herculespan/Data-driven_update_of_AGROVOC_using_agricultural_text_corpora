{
 "cells": [
  {
   "cell_type": "code",
   "execution_count": 1,
   "id": "7b88f4f9",
   "metadata": {},
   "outputs": [],
   "source": [
    "import json\n",
    "import matplotlib.pyplot as plt\n",
    "import pandas as pd\n",
    "import numpy as np"
   ]
  },
  {
   "cell_type": "code",
   "execution_count": 2,
   "id": "06e255f8",
   "metadata": {},
   "outputs": [
    {
     "name": "stdout",
     "output_type": "stream",
     "text": [
      "{'head': {'vars': ['date', 'count']}, 'results': {'bindings': [{'date': {'type': 'literal', 'value': '1981'}, 'count': {'type': 'literal', 'datatype': 'http://www.w3.org/2001/XMLSchema#integer', 'value': '347'}}, {'date': {'type': 'literal', 'value': '1983'}, 'count': {'type': 'literal', 'datatype': 'http://www.w3.org/2001/XMLSchema#integer', 'value': '4'}}, {'date': {'type': 'literal', 'value': '1986'}, 'count': {'type': 'literal', 'datatype': 'http://www.w3.org/2001/XMLSchema#integer', 'value': '41'}}, {'date': {'type': 'literal', 'value': '1987'}, 'count': {'type': 'literal', 'datatype': 'http://www.w3.org/2001/XMLSchema#integer', 'value': '32'}}, {'date': {'type': 'literal', 'value': '1988'}, 'count': {'type': 'literal', 'datatype': 'http://www.w3.org/2001/XMLSchema#integer', 'value': '22'}}, {'date': {'type': 'literal', 'value': '1989'}, 'count': {'type': 'literal', 'datatype': 'http://www.w3.org/2001/XMLSchema#integer', 'value': '50'}}, {'date': {'type': 'literal', 'value': '1990'}, 'count': {'type': 'literal', 'datatype': 'http://www.w3.org/2001/XMLSchema#integer', 'value': '93'}}, {'date': {'type': 'literal', 'value': '1993'}, 'count': {'type': 'literal', 'datatype': 'http://www.w3.org/2001/XMLSchema#integer', 'value': '3'}}, {'date': {'type': 'literal', 'value': '1994'}, 'count': {'type': 'literal', 'datatype': 'http://www.w3.org/2001/XMLSchema#integer', 'value': '9'}}, {'date': {'type': 'literal', 'value': '1995'}, 'count': {'type': 'literal', 'datatype': 'http://www.w3.org/2001/XMLSchema#integer', 'value': '15'}}, {'date': {'type': 'literal', 'value': '1996'}, 'count': {'type': 'literal', 'datatype': 'http://www.w3.org/2001/XMLSchema#integer', 'value': '37'}}, {'date': {'type': 'literal', 'value': '1997'}, 'count': {'type': 'literal', 'datatype': 'http://www.w3.org/2001/XMLSchema#integer', 'value': '48'}}, {'date': {'type': 'literal', 'value': '1998'}, 'count': {'type': 'literal', 'datatype': 'http://www.w3.org/2001/XMLSchema#integer', 'value': '15'}}, {'date': {'type': 'literal', 'value': '1999'}, 'count': {'type': 'literal', 'datatype': 'http://www.w3.org/2001/XMLSchema#integer', 'value': '2'}}, {'date': {'type': 'literal', 'value': '2001'}, 'count': {'type': 'literal', 'datatype': 'http://www.w3.org/2001/XMLSchema#integer', 'value': '3'}}, {'date': {'type': 'literal', 'value': '2002'}, 'count': {'type': 'literal', 'datatype': 'http://www.w3.org/2001/XMLSchema#integer', 'value': '1'}}, {'date': {'type': 'literal', 'value': '2003'}, 'count': {'type': 'literal', 'datatype': 'http://www.w3.org/2001/XMLSchema#integer', 'value': '1'}}, {'date': {'type': 'literal', 'value': '2005'}, 'count': {'type': 'literal', 'datatype': 'http://www.w3.org/2001/XMLSchema#integer', 'value': '6'}}, {'date': {'type': 'literal', 'value': '2006'}, 'count': {'type': 'literal', 'datatype': 'http://www.w3.org/2001/XMLSchema#integer', 'value': '126'}}, {'date': {'type': 'literal', 'value': '2007'}, 'count': {'type': 'literal', 'datatype': 'http://www.w3.org/2001/XMLSchema#integer', 'value': '47'}}, {'date': {'type': 'literal', 'value': '2008'}, 'count': {'type': 'literal', 'datatype': 'http://www.w3.org/2001/XMLSchema#integer', 'value': '303'}}, {'date': {'type': 'literal', 'value': '2009'}, 'count': {'type': 'literal', 'datatype': 'http://www.w3.org/2001/XMLSchema#integer', 'value': '248'}}, {'date': {'type': 'literal', 'value': '2010'}, 'count': {'type': 'literal', 'datatype': 'http://www.w3.org/2001/XMLSchema#integer', 'value': '60'}}, {'date': {'type': 'literal', 'value': '2011'}, 'count': {'type': 'literal', 'datatype': 'http://www.w3.org/2001/XMLSchema#integer', 'value': '26667'}}, {'date': {'type': 'literal', 'value': '2012'}, 'count': {'type': 'literal', 'datatype': 'http://www.w3.org/2001/XMLSchema#integer', 'value': '3881'}}, {'date': {'type': 'literal', 'value': '2013'}, 'count': {'type': 'literal', 'datatype': 'http://www.w3.org/2001/XMLSchema#integer', 'value': '241'}}, {'date': {'type': 'literal', 'value': '2014'}, 'count': {'type': 'literal', 'datatype': 'http://www.w3.org/2001/XMLSchema#integer', 'value': '34'}}, {'date': {'type': 'literal', 'value': '2015'}, 'count': {'type': 'literal', 'datatype': 'http://www.w3.org/2001/XMLSchema#integer', 'value': '309'}}, {'date': {'type': 'literal', 'value': '2016'}, 'count': {'type': 'literal', 'datatype': 'http://www.w3.org/2001/XMLSchema#integer', 'value': '65'}}, {'date': {'type': 'literal', 'value': '2017'}, 'count': {'type': 'literal', 'datatype': 'http://www.w3.org/2001/XMLSchema#integer', 'value': '2368'}}, {'date': {'type': 'literal', 'value': '2018'}, 'count': {'type': 'literal', 'datatype': 'http://www.w3.org/2001/XMLSchema#integer', 'value': '989'}}, {'date': {'type': 'literal', 'value': '2019'}, 'count': {'type': 'literal', 'datatype': 'http://www.w3.org/2001/XMLSchema#integer', 'value': '2895'}}, {'date': {'type': 'literal', 'value': '2020'}, 'count': {'type': 'literal', 'datatype': 'http://www.w3.org/2001/XMLSchema#integer', 'value': '560'}}, {'date': {'type': 'literal', 'value': '2021'}, 'count': {'type': 'literal', 'datatype': 'http://www.w3.org/2001/XMLSchema#integer', 'value': '462'}}, {'date': {'type': 'literal', 'value': '2022'}, 'count': {'type': 'literal', 'datatype': 'http://www.w3.org/2001/XMLSchema#integer', 'value': '62'}}]}}\n"
     ]
    }
   ],
   "source": [
    "with open(\"SPARQL_query_results_for_concept_creation_dates.json\") as jsonFile:\n",
    "    jsonData = json.load(jsonFile)\n",
    "    print(jsonData)"
   ]
  },
  {
   "cell_type": "code",
   "execution_count": 3,
   "id": "7dc1ba48",
   "metadata": {},
   "outputs": [],
   "source": [
    "creationDatesDict = {}"
   ]
  },
  {
   "cell_type": "code",
   "execution_count": 4,
   "id": "1eb9a294",
   "metadata": {},
   "outputs": [
    {
     "name": "stdout",
     "output_type": "stream",
     "text": [
      "1981: 347\n",
      "1983: 4\n",
      "1986: 41\n",
      "1987: 32\n",
      "1988: 22\n",
      "1989: 50\n",
      "1990: 93\n",
      "1993: 3\n",
      "1994: 9\n",
      "1995: 15\n",
      "1996: 37\n",
      "1997: 48\n",
      "1998: 15\n",
      "1999: 2\n",
      "2001: 3\n",
      "2002: 1\n",
      "2003: 1\n",
      "2005: 6\n",
      "2006: 126\n",
      "2007: 47\n",
      "2008: 303\n",
      "2009: 248\n",
      "2010: 60\n",
      "2011: 26667\n",
      "2012: 3881\n",
      "2013: 241\n",
      "2014: 34\n",
      "2015: 309\n",
      "2016: 65\n",
      "2017: 2368\n",
      "2018: 989\n",
      "2019: 2895\n",
      "2020: 560\n",
      "2021: 462\n",
      "2022: 62\n"
     ]
    }
   ],
   "source": [
    "for result in jsonData[\"results\"]:\n",
    "    for binding in jsonData[\"results\"][\"bindings\"]:\n",
    "        date = binding[\"date\"][\"value\"]\n",
    "        numOfConcepts = binding[\"count\"][\"value\"]\n",
    "        creationDatesDict[date] = int(numOfConcepts)\n",
    "        print(f\"{date}: {numOfConcepts}\")"
   ]
  },
  {
   "cell_type": "code",
   "execution_count": 5,
   "id": "7a1bcb4b",
   "metadata": {},
   "outputs": [
    {
     "data": {
      "text/plain": [
       "{'1981': 347,\n",
       " '1983': 4,\n",
       " '1986': 41,\n",
       " '1987': 32,\n",
       " '1988': 22,\n",
       " '1989': 50,\n",
       " '1990': 93,\n",
       " '1993': 3,\n",
       " '1994': 9,\n",
       " '1995': 15,\n",
       " '1996': 37,\n",
       " '1997': 48,\n",
       " '1998': 15,\n",
       " '1999': 2,\n",
       " '2001': 3,\n",
       " '2002': 1,\n",
       " '2003': 1,\n",
       " '2005': 6,\n",
       " '2006': 126,\n",
       " '2007': 47,\n",
       " '2008': 303,\n",
       " '2009': 248,\n",
       " '2010': 60,\n",
       " '2011': 26667,\n",
       " '2012': 3881,\n",
       " '2013': 241,\n",
       " '2014': 34,\n",
       " '2015': 309,\n",
       " '2016': 65,\n",
       " '2017': 2368,\n",
       " '2018': 989,\n",
       " '2019': 2895,\n",
       " '2020': 560,\n",
       " '2021': 462,\n",
       " '2022': 62}"
      ]
     },
     "execution_count": 5,
     "metadata": {},
     "output_type": "execute_result"
    }
   ],
   "source": [
    "creationDatesDict"
   ]
  },
  {
   "cell_type": "code",
   "execution_count": 6,
   "id": "9fea8bcd",
   "metadata": {},
   "outputs": [
    {
     "name": "stderr",
     "output_type": "stream",
     "text": [
      "/var/folders/4s/nxtlvf097tq5l3f_6sh_37zc0000gn/T/ipykernel_2959/36698380.py:3: FutureWarning: this method is deprecated in favour of `Styler.hide(axis='index')`\n",
      "  df.style.hide_index()\n"
     ]
    },
    {
     "data": {
      "text/html": [
       "<style type=\"text/css\">\n",
       "</style>\n",
       "<table id=\"T_07728\">\n",
       "  <thead>\n",
       "    <tr>\n",
       "      <th id=\"T_07728_level0_col0\" class=\"col_heading level0 col0\" >year</th>\n",
       "      <th id=\"T_07728_level0_col1\" class=\"col_heading level0 col1\" >no of concepts added to AGROVOC</th>\n",
       "    </tr>\n",
       "  </thead>\n",
       "  <tbody>\n",
       "    <tr>\n",
       "      <td id=\"T_07728_row0_col0\" class=\"data row0 col0\" >1981</td>\n",
       "      <td id=\"T_07728_row0_col1\" class=\"data row0 col1\" >347</td>\n",
       "    </tr>\n",
       "    <tr>\n",
       "      <td id=\"T_07728_row1_col0\" class=\"data row1 col0\" >1983</td>\n",
       "      <td id=\"T_07728_row1_col1\" class=\"data row1 col1\" >4</td>\n",
       "    </tr>\n",
       "    <tr>\n",
       "      <td id=\"T_07728_row2_col0\" class=\"data row2 col0\" >1986</td>\n",
       "      <td id=\"T_07728_row2_col1\" class=\"data row2 col1\" >41</td>\n",
       "    </tr>\n",
       "    <tr>\n",
       "      <td id=\"T_07728_row3_col0\" class=\"data row3 col0\" >1987</td>\n",
       "      <td id=\"T_07728_row3_col1\" class=\"data row3 col1\" >32</td>\n",
       "    </tr>\n",
       "    <tr>\n",
       "      <td id=\"T_07728_row4_col0\" class=\"data row4 col0\" >1988</td>\n",
       "      <td id=\"T_07728_row4_col1\" class=\"data row4 col1\" >22</td>\n",
       "    </tr>\n",
       "    <tr>\n",
       "      <td id=\"T_07728_row5_col0\" class=\"data row5 col0\" >1989</td>\n",
       "      <td id=\"T_07728_row5_col1\" class=\"data row5 col1\" >50</td>\n",
       "    </tr>\n",
       "    <tr>\n",
       "      <td id=\"T_07728_row6_col0\" class=\"data row6 col0\" >1990</td>\n",
       "      <td id=\"T_07728_row6_col1\" class=\"data row6 col1\" >93</td>\n",
       "    </tr>\n",
       "    <tr>\n",
       "      <td id=\"T_07728_row7_col0\" class=\"data row7 col0\" >1993</td>\n",
       "      <td id=\"T_07728_row7_col1\" class=\"data row7 col1\" >3</td>\n",
       "    </tr>\n",
       "    <tr>\n",
       "      <td id=\"T_07728_row8_col0\" class=\"data row8 col0\" >1994</td>\n",
       "      <td id=\"T_07728_row8_col1\" class=\"data row8 col1\" >9</td>\n",
       "    </tr>\n",
       "    <tr>\n",
       "      <td id=\"T_07728_row9_col0\" class=\"data row9 col0\" >1995</td>\n",
       "      <td id=\"T_07728_row9_col1\" class=\"data row9 col1\" >15</td>\n",
       "    </tr>\n",
       "    <tr>\n",
       "      <td id=\"T_07728_row10_col0\" class=\"data row10 col0\" >1996</td>\n",
       "      <td id=\"T_07728_row10_col1\" class=\"data row10 col1\" >37</td>\n",
       "    </tr>\n",
       "    <tr>\n",
       "      <td id=\"T_07728_row11_col0\" class=\"data row11 col0\" >1997</td>\n",
       "      <td id=\"T_07728_row11_col1\" class=\"data row11 col1\" >48</td>\n",
       "    </tr>\n",
       "    <tr>\n",
       "      <td id=\"T_07728_row12_col0\" class=\"data row12 col0\" >1998</td>\n",
       "      <td id=\"T_07728_row12_col1\" class=\"data row12 col1\" >15</td>\n",
       "    </tr>\n",
       "    <tr>\n",
       "      <td id=\"T_07728_row13_col0\" class=\"data row13 col0\" >1999</td>\n",
       "      <td id=\"T_07728_row13_col1\" class=\"data row13 col1\" >2</td>\n",
       "    </tr>\n",
       "    <tr>\n",
       "      <td id=\"T_07728_row14_col0\" class=\"data row14 col0\" >2001</td>\n",
       "      <td id=\"T_07728_row14_col1\" class=\"data row14 col1\" >3</td>\n",
       "    </tr>\n",
       "    <tr>\n",
       "      <td id=\"T_07728_row15_col0\" class=\"data row15 col0\" >2002</td>\n",
       "      <td id=\"T_07728_row15_col1\" class=\"data row15 col1\" >1</td>\n",
       "    </tr>\n",
       "    <tr>\n",
       "      <td id=\"T_07728_row16_col0\" class=\"data row16 col0\" >2003</td>\n",
       "      <td id=\"T_07728_row16_col1\" class=\"data row16 col1\" >1</td>\n",
       "    </tr>\n",
       "    <tr>\n",
       "      <td id=\"T_07728_row17_col0\" class=\"data row17 col0\" >2005</td>\n",
       "      <td id=\"T_07728_row17_col1\" class=\"data row17 col1\" >6</td>\n",
       "    </tr>\n",
       "    <tr>\n",
       "      <td id=\"T_07728_row18_col0\" class=\"data row18 col0\" >2006</td>\n",
       "      <td id=\"T_07728_row18_col1\" class=\"data row18 col1\" >126</td>\n",
       "    </tr>\n",
       "    <tr>\n",
       "      <td id=\"T_07728_row19_col0\" class=\"data row19 col0\" >2007</td>\n",
       "      <td id=\"T_07728_row19_col1\" class=\"data row19 col1\" >47</td>\n",
       "    </tr>\n",
       "    <tr>\n",
       "      <td id=\"T_07728_row20_col0\" class=\"data row20 col0\" >2008</td>\n",
       "      <td id=\"T_07728_row20_col1\" class=\"data row20 col1\" >303</td>\n",
       "    </tr>\n",
       "    <tr>\n",
       "      <td id=\"T_07728_row21_col0\" class=\"data row21 col0\" >2009</td>\n",
       "      <td id=\"T_07728_row21_col1\" class=\"data row21 col1\" >248</td>\n",
       "    </tr>\n",
       "    <tr>\n",
       "      <td id=\"T_07728_row22_col0\" class=\"data row22 col0\" >2010</td>\n",
       "      <td id=\"T_07728_row22_col1\" class=\"data row22 col1\" >60</td>\n",
       "    </tr>\n",
       "    <tr>\n",
       "      <td id=\"T_07728_row23_col0\" class=\"data row23 col0\" >2011</td>\n",
       "      <td id=\"T_07728_row23_col1\" class=\"data row23 col1\" >26667</td>\n",
       "    </tr>\n",
       "    <tr>\n",
       "      <td id=\"T_07728_row24_col0\" class=\"data row24 col0\" >2012</td>\n",
       "      <td id=\"T_07728_row24_col1\" class=\"data row24 col1\" >3881</td>\n",
       "    </tr>\n",
       "    <tr>\n",
       "      <td id=\"T_07728_row25_col0\" class=\"data row25 col0\" >2013</td>\n",
       "      <td id=\"T_07728_row25_col1\" class=\"data row25 col1\" >241</td>\n",
       "    </tr>\n",
       "    <tr>\n",
       "      <td id=\"T_07728_row26_col0\" class=\"data row26 col0\" >2014</td>\n",
       "      <td id=\"T_07728_row26_col1\" class=\"data row26 col1\" >34</td>\n",
       "    </tr>\n",
       "    <tr>\n",
       "      <td id=\"T_07728_row27_col0\" class=\"data row27 col0\" >2015</td>\n",
       "      <td id=\"T_07728_row27_col1\" class=\"data row27 col1\" >309</td>\n",
       "    </tr>\n",
       "    <tr>\n",
       "      <td id=\"T_07728_row28_col0\" class=\"data row28 col0\" >2016</td>\n",
       "      <td id=\"T_07728_row28_col1\" class=\"data row28 col1\" >65</td>\n",
       "    </tr>\n",
       "    <tr>\n",
       "      <td id=\"T_07728_row29_col0\" class=\"data row29 col0\" >2017</td>\n",
       "      <td id=\"T_07728_row29_col1\" class=\"data row29 col1\" >2368</td>\n",
       "    </tr>\n",
       "    <tr>\n",
       "      <td id=\"T_07728_row30_col0\" class=\"data row30 col0\" >2018</td>\n",
       "      <td id=\"T_07728_row30_col1\" class=\"data row30 col1\" >989</td>\n",
       "    </tr>\n",
       "    <tr>\n",
       "      <td id=\"T_07728_row31_col0\" class=\"data row31 col0\" >2019</td>\n",
       "      <td id=\"T_07728_row31_col1\" class=\"data row31 col1\" >2895</td>\n",
       "    </tr>\n",
       "    <tr>\n",
       "      <td id=\"T_07728_row32_col0\" class=\"data row32 col0\" >2020</td>\n",
       "      <td id=\"T_07728_row32_col1\" class=\"data row32 col1\" >560</td>\n",
       "    </tr>\n",
       "    <tr>\n",
       "      <td id=\"T_07728_row33_col0\" class=\"data row33 col0\" >2021</td>\n",
       "      <td id=\"T_07728_row33_col1\" class=\"data row33 col1\" >462</td>\n",
       "    </tr>\n",
       "    <tr>\n",
       "      <td id=\"T_07728_row34_col0\" class=\"data row34 col0\" >2022</td>\n",
       "      <td id=\"T_07728_row34_col1\" class=\"data row34 col1\" >62</td>\n",
       "    </tr>\n",
       "  </tbody>\n",
       "</table>\n"
      ],
      "text/plain": [
       "<pandas.io.formats.style.Styler at 0x121d5e6e0>"
      ]
     },
     "execution_count": 6,
     "metadata": {},
     "output_type": "execute_result"
    }
   ],
   "source": [
    "df = pd.DataFrame.from_dict(creationDatesDict.items())\n",
    "df.columns = [\"year\", \"no of concepts added to AGROVOC\"]\n",
    "df.style.hide_index()"
   ]
  },
  {
   "cell_type": "code",
   "execution_count": 7,
   "id": "8a44c628",
   "metadata": {},
   "outputs": [
    {
     "data": {
      "image/png": "[encoded data removed]",
      "text/plain": [
       "<Figure size 1080x864 with 1 Axes>"
      ]
     },
     "metadata": {
      "needs_background": "light"
     },
     "output_type": "display_data"
    }
   ],
   "source": [
    "graph = df.plot(x = \"year\", y = \"no of concepts added to AGROVOC\", title = f\"temporal distribution of concept addition\", fontsize = 12, figsize = (15, 12), color = ['red'])\n",
    "plt.xlabel(\"year\")\n",
    "plt.ylabel(\"No of concepts added\")\n",
    "plt.grid()\n",
    "fig = graph.get_figure()\n",
    "fig.savefig(f\"temporal_distribution_of_concept_addition.png\", dpi = 300, bbox_inches = 'tight')\n",
    "plt.show()"
   ]
  }
 ],
 "metadata": {
  "kernelspec": {
   "display_name": "Python 3 (ipykernel)",
   "language": "python",
   "name": "python3"
  },
  "language_info": {
   "codemirror_mode": {
    "name": "ipython",
    "version": 3
   },
   "file_extension": ".py",
   "mimetype": "text/x-python",
   "name": "python",
   "nbconvert_exporter": "python",
   "pygments_lexer": "ipython3",
   "version": "3.10.1"
  }
 },
 "nbformat": 4,
 "nbformat_minor": 5
}
