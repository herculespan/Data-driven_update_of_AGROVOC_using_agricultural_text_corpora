{
 "cells": [
  {
   "cell_type": "code",
   "execution_count": null,
   "id": "d6345ceb",
   "metadata": {},
   "outputs": [],
   "source": [
    "!pip show SPARQLWrapper"
   ]
  },
  {
   "cell_type": "code",
   "execution_count": null,
   "id": "b72b1413",
   "metadata": {},
   "outputs": [],
   "source": [
    "from SPARQLWrapper import SPARQLWrapper, JSON\n",
    "import requests\n",
    "from bs4 import BeautifulSoup\n",
    "import pandas as pd\n",
    "import matplotlib.pyplot as plt"
   ]
  },
  {
   "cell_type": "code",
   "execution_count": null,
   "id": "2f8dc413",
   "metadata": {},
   "outputs": [],
   "source": [
    "sparqlEndpoint = SPARQLWrapper(\"https://agrovoc.fao.org/sparql\")"
   ]
  },
  {
   "cell_type": "code",
   "execution_count": null,
   "id": "c3581cc1",
   "metadata": {},
   "outputs": [],
   "source": [
    "sparqlEndpoint.setQuery('''\n",
    "    PREFIX rdf: <http://www.w3.org/1999/02/22-rdf-syntax-ns#>\n",
    "    PREFIX rdfs: <http://www.w3.org/2000/01/rdf-schema#>\n",
    "    PREFIX agrovoc: <http://aims.fao.org/aos/agrovoc/>\n",
    "    PREFIX skos: <http://www.w3.org/2004/02/skos/core#>\n",
    "    PREFIX dcterms: <http://purl.org/dc/terms/>\n",
    "\n",
    "    SELECT ?subj ?obj ?dateCreated WHERE {\n",
    "      ?subj skos:prefLabel ?obj ;\n",
    "            dcterms:created ?created .\n",
    "      FILTER(lang(?obj) = \"en\")\n",
    "      BIND(STR(?created) AS ?dateCreated)\n",
    "      BIND(RAND() AS ?sortKey)\n",
    "} ORDER BY ?sortKey\n",
    "LIMIT 20\n",
    "''')"
   ]
  },
  {
   "cell_type": "code",
   "execution_count": null,
   "id": "434eebe2",
   "metadata": {},
   "outputs": [],
   "source": [
    "sparqlEndpoint.setReturnFormat(JSON)"
   ]
  },
  {
   "cell_type": "code",
   "execution_count": null,
   "id": "8ae56af8",
   "metadata": {},
   "outputs": [],
   "source": [
    "queryOutput = sparqlEndpoint.query().convert()"
   ]
  },
  {
   "cell_type": "code",
   "execution_count": null,
   "id": "1b4e3f69",
   "metadata": {},
   "outputs": [],
   "source": [
    "resultList = []"
   ]
  },
  {
   "cell_type": "code",
   "execution_count": null,
   "id": "00443e29",
   "metadata": {},
   "outputs": [],
   "source": [
    "for result in queryOutput[\"results\"]:\n",
    "    for binding in queryOutput[\"results\"][\"bindings\"]:\n",
    "        conceptURI = binding[\"subj\"][\"value\"]\n",
    "        conceptLabel = binding[\"obj\"][\"value\"].lower()\n",
    "        if \"(\" in conceptLabel:\n",
    "            conceptLabel = conceptLabel[:conceptLabel.find(\"(\")-1]\n",
    "        conceptCreationDate = binding[\"dateCreated\"][\"value\"][:4]\n",
    "        resultTuple = (conceptURI, conceptLabel, conceptCreationDate)\n",
    "        print(conceptURI,\"-\", conceptLabel, \"-\", conceptCreationDate)\n",
    "        resultList.append(resultTuple)"
   ]
  },
  {
   "cell_type": "code",
   "execution_count": null,
   "id": "4d0fec52",
   "metadata": {},
   "outputs": [],
   "source": [
    "resultList"
   ]
  },
  {
   "cell_type": "code",
   "execution_count": null,
   "id": "9872e9fb",
   "metadata": {},
   "outputs": [],
   "source": [
    "len(resultList)"
   ]
  },
  {
   "cell_type": "code",
   "execution_count": null,
   "id": "445f371a",
   "metadata": {},
   "outputs": [],
   "source": [
    "baseURL = \"https://agris.fao.org/agris-search/biblio.do?\""
   ]
  },
  {
   "cell_type": "code",
   "execution_count": null,
   "id": "1c899e20",
   "metadata": {},
   "outputs": [],
   "source": [
    "string = \"tomatoes\""
   ]
  },
  {
   "cell_type": "code",
   "execution_count": null,
   "id": "a7edba25",
   "metadata": {},
   "outputs": [],
   "source": [
    "searchValue = \"\"\n",
    "if len(string.split()) > 1:\n",
    "    for token in string.split():\n",
    "        searchValue += token + '+'\n",
    "    searchValue = searchValue[:-1]\n",
    "else:\n",
    "    searchValue = string"
   ]
  },
  {
   "cell_type": "code",
   "execution_count": null,
   "id": "4b5cbe8f",
   "metadata": {},
   "outputs": [],
   "source": [
    "searchValue"
   ]
  },
  {
   "cell_type": "code",
   "execution_count": null,
   "id": "816bcb44",
   "metadata": {},
   "outputs": [],
   "source": [
    "searchString = f'agrovocString=&agrovocToAdd=&agrovocToRemove=&advQuery=\"{searchValue}\"&centerString=&centerToRemove=&onlyFullText=false&filterString=&filterToRemove=&typeString=&typeToRemove=&filterQuery=&operator=Required&field=0&typeresultsField=Publications&fromDate=0&toDate=0&country=0&lang=0&typeToAdd=0&enableField=Disable&aggregatorField=Disable'"
   ]
  },
  {
   "cell_type": "code",
   "execution_count": null,
   "id": "bb3fc555",
   "metadata": {},
   "outputs": [],
   "source": [
    "searchString"
   ]
  },
  {
   "cell_type": "code",
   "execution_count": null,
   "id": "4f8edceb",
   "metadata": {},
   "outputs": [],
   "source": [
    "searchURL = baseURL + searchString"
   ]
  },
  {
   "cell_type": "code",
   "execution_count": null,
   "id": "1f670068",
   "metadata": {},
   "outputs": [],
   "source": [
    "response = requests.get(searchURL)"
   ]
  },
  {
   "cell_type": "code",
   "execution_count": null,
   "id": "3c2c60fa",
   "metadata": {},
   "outputs": [],
   "source": [
    "response.status_code"
   ]
  },
  {
   "cell_type": "code",
   "execution_count": null,
   "id": "b7f7014f",
   "metadata": {},
   "outputs": [],
   "source": [
    "from bs4 import BeautifulSoup"
   ]
  },
  {
   "cell_type": "code",
   "execution_count": null,
   "id": "008bf0d1",
   "metadata": {},
   "outputs": [],
   "source": [
    "soup = BeautifulSoup(response.content, \"html.parser\")\n",
    "numOfResultsRecord = soup.find(\"div\", class_ = \"pull-left grey-scale-1 last\")"
   ]
  },
  {
   "cell_type": "code",
   "execution_count": null,
   "id": "357b8575",
   "metadata": {},
   "outputs": [],
   "source": [
    "if \",\" in numOfResultsRecord.find(\"p\").find(\"strong\").text.split()[-1]:\n",
    "    numOfResults = int(numOfResultsRecord.find(\"p\").find(\"strong\").text.split()[-1].replace(\",\", \"\"))\n",
    "else:\n",
    "    numOfResults = int(numOfResultsRecord.find(\"p\").find(\"strong\").text.split()[-1])"
   ]
  },
  {
   "cell_type": "code",
   "execution_count": null,
   "id": "d3791542",
   "metadata": {},
   "outputs": [],
   "source": [
    "numOfResults"
   ]
  },
  {
   "cell_type": "code",
   "execution_count": null,
   "id": "d23b8e44",
   "metadata": {},
   "outputs": [],
   "source": [
    "if (numOfResults // 10 == 1): \n",
    "    numOfIterations = 1\n",
    "elif (numOfResults // 10 == 0) and (numOfResults % 10 > 0 and numOfResults % 10 < 10):\n",
    "    numOfIterations = 1\n",
    "else:\n",
    "    if numOfResults % 10 == 0:\n",
    "        numOfIterations = numOfResults // 10\n",
    "    else:\n",
    "        numOfIterations = (numOfResults // 10) + 1"
   ]
  },
  {
   "cell_type": "code",
   "execution_count": null,
   "id": "64c8b043",
   "metadata": {},
   "outputs": [],
   "source": [
    "numOfIterations"
   ]
  },
  {
   "cell_type": "code",
   "execution_count": null,
   "id": "110d1d8a",
   "metadata": {},
   "outputs": [],
   "source": [
    "file = open (\"search_results.txt\", \"w\")"
   ]
  },
  {
   "cell_type": "code",
   "execution_count": null,
   "id": "70ba1258",
   "metadata": {},
   "outputs": [],
   "source": [
    "startIndex = 0\n",
    "if numOfResults >= 10:\n",
    "    iteration = 1\n",
    "    response = requests.get(searchURL + \"&\" + \"startIndexSearch=\")\n",
    "    soup = BeautifulSoup(response.content, \"html.parser\")\n",
    "    resultUrls = soup.find_all(\"div\", class_=\"col-md-10 col-sm-10 col-xs-12 inner\")\n",
    "    for resultUrl in resultUrls:\n",
    "        url = resultUrl.find(\"a\")\n",
    "        file.write(url[\"href\"] + \"\\n\")\n",
    "    iteration +=1\n",
    "    while iteration <= numOfIterations:\n",
    "        startIndex += 10\n",
    "        response = requests.get(searchURL + \"&\" + \"startIndexSearch=\" + str(startIndex))\n",
    "        soup = BeautifulSoup(response.content, \"html.parser\")\n",
    "        resultUrls = soup.find_all(\"div\", class_=\"col-md-10 col-sm-10 col-xs-12 inner\")\n",
    "        for resultUrl in resultUrls:\n",
    "            url = resultUrl.find(\"a\")\n",
    "            file.write(url[\"href\"] + \"\\n\")\n",
    "        iteration +=1\n",
    "else:\n",
    "    response = requests.get(searchURL + \"&\" + \"startIndexSearch=\")\n",
    "    soup = BeautifulSoup(response.content, \"html.parser\")\n",
    "    resultUrls = soup.find_all(\"div\", class_=\"col-md-10 col-sm-10 col-xs-12 inner\")\n",
    "    counter = 0\n",
    "    for resultUrl in resultUrls:\n",
    "        if counter < numOfResultsToKeep:\n",
    "            counter +=1\n",
    "            url = resultUrl.find(\"a\")\n",
    "            file.write(url[\"href\"] + \"\\n\")\n",
    "        else:\n",
    "            break"
   ]
  },
  {
   "cell_type": "code",
   "execution_count": null,
   "id": "14024eed",
   "metadata": {},
   "outputs": [],
   "source": [
    "file.close()"
   ]
  },
  {
   "cell_type": "code",
   "execution_count": null,
   "id": "7655f27b",
   "metadata": {},
   "outputs": [],
   "source": [
    "temporalDistributionDict = {}"
   ]
  },
  {
   "cell_type": "code",
   "execution_count": null,
   "id": "4a0f9405",
   "metadata": {},
   "outputs": [],
   "source": [
    "with open(\"search_results.txt\", \"r\") as file:\n",
    "    counter_1975_to_1979 = 0\n",
    "    counter_1980_to_1984 = 0\n",
    "    counter_1985_to_1989 = 0\n",
    "    counter_1990_to_1994 = 0\n",
    "    counter_1995_to_1999 = 0\n",
    "    counter_2000_to_2004 = 0\n",
    "    counter_2005_to_2009 = 0\n",
    "    counter_2010_to_2014 = 0\n",
    "    counter_2015_to_2019 = 0\n",
    "    counter_2020_to_2022 = 0\n",
    "    for line in file:\n",
    "        if len(line) != 0:\n",
    "            url = \"https://agris.fao.org/agris-search/\" + line.rstrip()\n",
    "            page = requests.get(url)\n",
    "            soup = BeautifulSoup(page.content, \"html.parser\")\n",
    "            metaElements = soup.find_all(\"meta\", attrs = {\"name\": \"citation_publication_date\"})\n",
    "            for metaElement in metaElements:\n",
    "                if metaElement[\"content\"] != \"\":\n",
    "                    if (int(metaElement[\"content\"]) >= 1975 and int(metaElement[\"content\"]) <= 1979):\n",
    "                        counter_1975_to_1979 += 1\n",
    "                    elif (int(metaElement[\"content\"]) >= 1980 and int(metaElement[\"content\"]) <= 1984):\n",
    "                        counter_1980_to_1984 += 1\n",
    "                    elif (int(metaElement[\"content\"]) >= 1985 and int(metaElement[\"content\"]) <= 1989):\n",
    "                        counter_1985_to_1989 += 1\n",
    "                    elif (int(metaElement[\"content\"]) >= 1990 and int(metaElement[\"content\"]) <= 1994):\n",
    "                        counter_1990_to_1994 += 1\n",
    "                    elif (int(metaElement[\"content\"]) >= 1995 and int(metaElement[\"content\"]) <= 1999):\n",
    "                        counter_1995_to_1999 += 1\n",
    "                    elif (int(metaElement[\"content\"]) >= 2000 and int(metaElement[\"content\"]) <= 2004):\n",
    "                        counter_2000_to_2004 += 1\n",
    "                    elif (int(metaElement[\"content\"]) >= 2005 and int(metaElement[\"content\"]) <= 2009):\n",
    "                        counter_2005_to_2009 += 1\n",
    "                    elif (int(metaElement[\"content\"]) >= 2010 and int(metaElement[\"content\"]) <= 2014):\n",
    "                        counter_2010_to_2014 += 1\n",
    "                    elif (int(metaElement[\"content\"]) >= 2015 and int(metaElement[\"content\"]) <= 2019):\n",
    "                        counter_2015_to_2019 += 1\n",
    "                    elif (int(metaElement[\"content\"]) >= 2020 and int(metaElement[\"content\"]) <= 2022):\n",
    "                        counter_2020_to_2022 += 1"
   ]
  },
  {
   "cell_type": "code",
   "execution_count": null,
   "id": "889cdfcd",
   "metadata": {},
   "outputs": [],
   "source": [
    "file.close()"
   ]
  },
  {
   "cell_type": "code",
   "execution_count": null,
   "id": "adc9790c",
   "metadata": {},
   "outputs": [],
   "source": [
    "temporalDistributionDict[\"1975 to 1979\"] = counter_1975_to_1979\n",
    "temporalDistributionDict[\"1980 to 1984\"] = counter_1980_to_1984\n",
    "temporalDistributionDict[\"1985 to 1989\"] = counter_1985_to_1989\n",
    "temporalDistributionDict[\"1990 to 1994\"] = counter_1990_to_1994\n",
    "temporalDistributionDict[\"1995 to 1999\"] = counter_1995_to_1999\n",
    "temporalDistributionDict[\"2000 to 2004\"] = counter_2000_to_2004\n",
    "temporalDistributionDict[\"2005 to 2009\"] = counter_2005_to_2009\n",
    "temporalDistributionDict[\"2010 to 2014\"] = counter_2010_to_2014\n",
    "temporalDistributionDict[\"2015 to 2019\"] = counter_2015_to_2019\n",
    "temporalDistributionDict[\"2020 to 2022\"] = counter_2020_to_2022"
   ]
  },
  {
   "cell_type": "code",
   "execution_count": null,
   "id": "bfe29484",
   "metadata": {},
   "outputs": [],
   "source": [
    "temporalDistributionDict"
   ]
  },
  {
   "cell_type": "code",
   "execution_count": null,
   "id": "15315ee6",
   "metadata": {},
   "outputs": [],
   "source": [
    "df = pd.DataFrame.from_dict(temporalDistributionDict.items())"
   ]
  },
  {
   "cell_type": "code",
   "execution_count": null,
   "id": "73b70efc",
   "metadata": {},
   "outputs": [],
   "source": [
    "df.columns = [\"time window\", \"term occurrence frequency\"]"
   ]
  },
  {
   "cell_type": "code",
   "execution_count": null,
   "id": "4abd3e59",
   "metadata": {},
   "outputs": [],
   "source": [
    "df.style.hide_index()"
   ]
  },
  {
   "cell_type": "code",
   "execution_count": null,
   "id": "7417e66e",
   "metadata": {},
   "outputs": [],
   "source": [
    "barplot = df.plot(kind = \"bar\", x = \"time window\", title = f\"Appearance of the term {searchValue} in literature\", fontsize = 12, figsize = (10, 8), color=['#A0E8AF'])\n",
    "plt.show()"
   ]
  },
  {
   "cell_type": "code",
   "execution_count": null,
   "id": "a9b12cce",
   "metadata": {},
   "outputs": [],
   "source": [
    "fig = barplot.get_figure()\n",
    "fig.savefig(\"image.jpg\")"
   ]
  }
 ],
 "metadata": {
  "kernelspec": {
   "display_name": "Python 3 (ipykernel)",
   "language": "python",
   "name": "python3"
  },
  "language_info": {
   "codemirror_mode": {
    "name": "ipython",
    "version": 3
   },
   "file_extension": ".py",
   "mimetype": "text/x-python",
   "name": "python",
   "nbconvert_exporter": "python",
   "pygments_lexer": "ipython3",
   "version": "3.10.1"
  }
 },
 "nbformat": 4,
 "nbformat_minor": 5
}
